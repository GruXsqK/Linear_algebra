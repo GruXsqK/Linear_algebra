{
 "cells": [
  {
   "cell_type": "markdown",
   "metadata": {},
   "source": [
    "## Практическое задание к уроку 3"
   ]
  },
  {
   "cell_type": "code",
   "execution_count": 1,
   "metadata": {},
   "outputs": [],
   "source": [
    "import numpy as np"
   ]
  },
  {
   "cell_type": "markdown",
   "metadata": {},
   "source": [
    "__1. Задание__ Найти собственные векторы и собственные значения для линейного оператора, заданного матрицей\n",
    "\n",
    "$$A=\\begin{pmatrix}\n",
    "-1 & -6\\\\ \n",
    "2 & 6\n",
    "\\end{pmatrix}.$$"
   ]
  },
  {
   "cell_type": "markdown",
   "metadata": {},
   "source": [
    "__Решение:__\n",
    "\n",
    "$\\text{Собственные значения:}$\n",
    "\n",
    "$\\begin{vmatrix}\n",
    "-1-\\lambda & -6\\\\ \n",
    "2 & 6-\\lambda\n",
    "\\end{vmatrix} = 0\\rightarrow (-1-\\lambda)(6-\\lambda)-2\\cdot(-6)=0\\rightarrow\n",
    "\\lambda^2-5\\lambda+6=0\\rightarrow\\lambda_1=2,\\lambda_2=3$\n",
    "\n",
    "$\\text{Собственные векторы:}$\n",
    "\n",
    "$\\begin{pmatrix}-1 & -6\\\\2 & 6\\end{pmatrix}\\begin{pmatrix}x_{1}\\\\x_{2}\\end{pmatrix}=\n",
    "2\\begin{pmatrix}x_{1}\\\\x_{2}\\end{pmatrix}\\rightarrow\\begin{cases}\n",
    "-x_1-6x_2=2x_1\\\\2x_1+6x_2=2x_2\\end{cases}\\rightarrow x_1=-2x_2\\rightarrow\n",
    "\\begin{pmatrix}-2 \\\\ 1\\end{pmatrix}$\n",
    "\n",
    "$\\begin{pmatrix}-1 & -6\\\\2 & 6\\end{pmatrix}\\begin{pmatrix}x_{1}\\\\x_{2}\\end{pmatrix}=\n",
    "3\\begin{pmatrix}x_{1}\\\\x_{2}\\end{pmatrix}\\rightarrow\\begin{cases}\n",
    "-x_1-6x_2=3x_1\\\\2x_1+6x_2=3x_2\\end{cases}\\rightarrow x_1=-\\frac{3}{2}x_2\\rightarrow\n",
    "\\begin{pmatrix}3 \\\\ -2\\end{pmatrix}$"
   ]
  },
  {
   "cell_type": "code",
   "execution_count": 2,
   "metadata": {},
   "outputs": [
    {
     "name": "stdout",
     "output_type": "stream",
     "text": [
      "Собственные значения = [2. 3.]\n",
      "Собственные векторы =\n",
      " [[-0.89442719  0.83205029]\n",
      " [ 0.4472136  -0.5547002 ]]\n"
     ]
    }
   ],
   "source": [
    "A = np.array([[-1, -6], [2, 6]])\n",
    "w, v = np.linalg.eig(A)\n",
    "\n",
    "print(f'Собственные значения = {w}')\n",
    "print(f'Собственные векторы =\\n {v}') # векторы коллинеарны найденным выше"
   ]
  },
  {
   "cell_type": "markdown",
   "metadata": {},
   "source": [
    "__2. Задание__ Дан оператор поворота на 180 градусов, задаваемый матрицей \n",
    "\n",
    "$$A=\\begin{pmatrix}\n",
    "-1 & 0\\\\ \n",
    "0 & -1\n",
    "\\end{pmatrix}.$$\n",
    "\n",
    "Показать, что __любой__ вектор является для него собственным."
   ]
  },
  {
   "cell_type": "markdown",
   "metadata": {},
   "source": [
    "__Решение:__\n",
    "\n",
    "$\\begin{vmatrix}\n",
    "-1-\\lambda & 0\\\\0 & -1-\\lambda\\end{vmatrix} = 0\\rightarrow (-1-\\lambda)^2=0\\rightarrow\n",
    "\\lambda=-1$\n",
    "\n",
    "$\\begin{pmatrix}-1 & 0\\\\0 & -1\\end{pmatrix}\\begin{pmatrix}x_{1}\\\\x_{2}\\end{pmatrix}=\n",
    "-1\\begin{pmatrix}x_{1}\\\\x_{2}\\end{pmatrix}\\rightarrow\\begin{cases}\n",
    "x_1=x_1\\\\x_2=x_2\\end{cases}$\n",
    "\n",
    "$\\text{Поскольку данная система уравнений имеет решение при любых $x_1$ и $x_2$, то любой вектор для оператора $A$ является собственным.}$"
   ]
  },
  {
   "cell_type": "markdown",
   "metadata": {},
   "source": [
    "__3. Задание__ Пусть линейный оператор задан матрицей\n",
    "\n",
    "$$A=\\begin{pmatrix}\n",
    "1 & 1\\\\ \n",
    "-1 & 3\n",
    "\\end{pmatrix}.$$\n",
    "\n",
    "Установить, является ли вектор $x=(1,1)$ собственным вектором этого линейного оператора."
   ]
  },
  {
   "cell_type": "markdown",
   "metadata": {},
   "source": [
    "__Решение:__\n",
    "\n",
    "$\\begin{pmatrix}1 & 1\\\\-1 & 3\\end{pmatrix}\\begin{pmatrix}1\\\\1\\end{pmatrix}=\n",
    "\\lambda\\begin{pmatrix}1\\\\1\\end{pmatrix}\\rightarrow\\begin{cases}\n",
    "1\\cdot1+1\\cdot1=\\lambda\\cdot1\\\\-1\\cdot1+3\\cdot1=\\lambda\\cdot1\\end{cases}\n",
    "\\rightarrow\\begin{cases}1=\\lambda\\\\1=\\lambda\\end{cases}$\n",
    "\n",
    "$\\text{Поскольку данная система уравнений имеет решения, то вектор $x=(1,1)$ для оператора $A$ является собственным.}$"
   ]
  },
  {
   "cell_type": "markdown",
   "metadata": {},
   "source": [
    "__4. Задание__ Пусть линейный оператор задан матрицей\n",
    "\n",
    "$$A=\\begin{pmatrix}\n",
    "0 & 3 & 0\\\\ \n",
    "3 & 0 & 0\\\\\n",
    "0 & 0 & 3\n",
    "\\end{pmatrix}.$$\n",
    "\n",
    "Установить, является ли вектор $x=(3, -3, -4)$ собственным вектором этого линейного оператора."
   ]
  },
  {
   "cell_type": "markdown",
   "metadata": {},
   "source": [
    "__Решение:__\n",
    "\n",
    "$\\begin{pmatrix}0 & 3 & 0\\\\3 & 0 & 0\\\\0 & 0 & 3\\end{pmatrix}\\begin{pmatrix}3\\\\-3\\\\-4\\end{pmatrix}=\n",
    "\\lambda\\begin{pmatrix}3\\\\-3\\\\-4\\end{pmatrix}\\rightarrow\\begin{cases}\n",
    "0\\cdot3+3\\cdot(-3)+0\\cdot(-4)=\\lambda\\cdot3\\\\\n",
    "3\\cdot3+0\\cdot(-3)+0\\cdot(-4)=\\lambda\\cdot(-3)\\\\\n",
    "0\\cdot3+0\\cdot(-3)+3\\cdot(-4)=\\lambda\\cdot(-4)\\end{cases}\n",
    "\\rightarrow\\begin{cases}-9=3\\cdot\\lambda\\\\9=-3\\cdot\\lambda\\\\-12=-4\\cdot\\lambda\\end{cases}\n",
    "\\rightarrow\\begin{cases}-3=\\lambda\\\\-3=\\lambda\\\\3=\\lambda\\end{cases}$\n",
    "\n",
    "$\\text{Такая система не имеет смысла, следовательно, вектор $x=(3, -3, -4)$ не является собственным вектором оператора $A$.}$"
   ]
  }
 ],
 "metadata": {
  "kernelspec": {
   "display_name": "Python 3",
   "language": "python",
   "name": "python3"
  },
  "language_info": {
   "codemirror_mode": {
    "name": "ipython",
    "version": 3
   },
   "file_extension": ".py",
   "mimetype": "text/x-python",
   "name": "python",
   "nbconvert_exporter": "python",
   "pygments_lexer": "ipython3",
   "version": "3.7.3"
  }
 },
 "nbformat": 4,
 "nbformat_minor": 2
}
