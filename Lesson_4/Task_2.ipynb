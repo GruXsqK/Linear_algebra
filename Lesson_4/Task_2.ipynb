{
 "cells": [
  {
   "cell_type": "markdown",
   "metadata": {},
   "source": [
    "## Практическое задание 4-2"
   ]
  },
  {
   "cell_type": "code",
   "execution_count": 1,
   "metadata": {},
   "outputs": [],
   "source": [
    "import numpy as np\n",
    "import scipy.linalg"
   ]
  },
  {
   "cell_type": "markdown",
   "metadata": {},
   "source": [
    "__1.__ Решить систему уравнений методом Крамера:\n",
    "\n",
    "   а) $\\begin{cases}\n",
    "x_{1}-2x_{2}=1 \\\\\n",
    "3x_{1}-4x_{2}=7\n",
    "\\end{cases}$\n",
    "    \n",
    "   б) $\\begin{cases}\n",
    "2x_{1}-x_{2}+5x_{3}=10 \\\\\n",
    "x_{1}+x_{2}-3x_{3}=-2 \\\\\n",
    "2x_{1}+4x_{2}+x_{3}=1\n",
    "\\end{cases}$"
   ]
  },
  {
   "cell_type": "markdown",
   "metadata": {},
   "source": [
    "__Решение__\n",
    "\n",
    "a) $detA=\\begin{vmatrix}\n",
    "1 & -2\\\\3 & -4\\end{vmatrix}=1\\cdot(-4)-3\\cdot(-2)=2\\neq 0$\n",
    "\n",
    "$detA_1=\\begin{vmatrix}\n",
    "1 & -2\\\\7 & -4\\end{vmatrix}=1\\cdot(-4)-7\\cdot(-2)=10$\n",
    "\n",
    "$detA_2=\\begin{vmatrix}\n",
    "1 & 1\\\\3 & 7\\end{vmatrix}=1\\cdot7-3\\cdot1=4$\n",
    "\n",
    "$x_1=\\frac{detA_1}{detA}=\\frac{10}{2}=5$\n",
    "\n",
    "$x_2=\\frac{detA_2}{detA}=\\frac{4}{2}=2$\n",
    "\n",
    "б) $detA=\\begin{vmatrix}\n",
    "2 & -1 & 5\\\\ \n",
    "1 & 1 & -3\\\\ \n",
    "2 & 4 & 1\n",
    "\\end{vmatrix}=\n",
    "2\\begin{vmatrix}1 & -3\\\\ 4 & 1 \\end{vmatrix}-\n",
    "\\begin{vmatrix}-1 & 5\\\\ 4 & 1 \\end{vmatrix}+\n",
    "2\\begin{vmatrix}-1 & 5 \\\\ 1 & -3\\end{vmatrix}=\n",
    "2(1+12)-(-1-20)+2(3-5)=43\\neq 0,$\n",
    "\n",
    "$detA_1=\\begin{vmatrix}\n",
    "10 & -1 & 5\\\\ \n",
    "-2 & 1 & -3\\\\ \n",
    "1 & 4 & 1\n",
    "\\end{vmatrix}=\n",
    "\\begin{vmatrix}-1 & 5\\\\ 1 & -3 \\end{vmatrix}-\n",
    "4\\begin{vmatrix}10 & 5\\\\ -2 & -3 \\end{vmatrix}+\n",
    "\\begin{vmatrix}10 & -1 \\\\ -2 & 1\\end{vmatrix}=\n",
    "(3-5)-4(-30+10)+(10-2)=86$\n",
    "\n",
    "$detA_2=\\begin{vmatrix}\n",
    "2 & 10 & 5\\\\ \n",
    "1 & -2 & -3\\\\ \n",
    "2 & 1 & 1\n",
    "\\end{vmatrix}=\n",
    "2\\begin{vmatrix}-2 & -3\\\\ 1 & 1 \\end{vmatrix}-\n",
    "\\begin{vmatrix}10 & 5\\\\ 1 & 1 \\end{vmatrix}+\n",
    "2\\begin{vmatrix}10 & 5 \\\\ -2 & -3\\end{vmatrix}=\n",
    "2(-2+3)-(10-5)+2(-30+10)=-43$\n",
    "\n",
    "$detA_2=\\begin{vmatrix}\n",
    "2 & -1 & 10\\\\ \n",
    "1 & 1 & -2\\\\ \n",
    "2 & 4 & 1\n",
    "\\end{vmatrix}=\n",
    "2\\begin{vmatrix}1 & -2\\\\ 4 & 1 \\end{vmatrix}-\n",
    "\\begin{vmatrix}-1 & 10\\\\ 4 & 1 \\end{vmatrix}+\n",
    "2\\begin{vmatrix}-1 & 10 \\\\ 1 & -2\\end{vmatrix}=\n",
    "2(1+8)-(-1-40)+2(2-10)=43$\n",
    "\n",
    "$x_1=\\frac{detA_1}{detA}=\\frac{86}{43}=2$\n",
    "\n",
    "$x_2=\\frac{detA_2}{detA}=\\frac{-43}{43}=-1$\n",
    "\n",
    "$x_3=\\frac{detA_3}{detA}=\\frac{43}{43}=1$"
   ]
  },
  {
   "cell_type": "code",
   "execution_count": 2,
   "metadata": {},
   "outputs": [
    {
     "name": "stdout",
     "output_type": "stream",
     "text": [
      "Корни системы уравнений 'а)':\n",
      "[5. 2.]\n",
      "Корни системы уравнений 'б)':\n",
      "[ 2. -1.  1.]\n"
     ]
    }
   ],
   "source": [
    "A = np.array([[1, -2], [3, -4]])\n",
    "b_A = np.array([[1, 7]])\n",
    "\n",
    "B = np.array([[2, -1, 5], [1, 1, -3], [2, 4, 1]])\n",
    "b_B = np.array([[10, -2, 1]])\n",
    "\n",
    "X_A = np.array([np.linalg.det(np.hstack((b_A.T, A[:, 1:])))/np.linalg.det(A),\n",
    "                 np.linalg.det(np.hstack((A[:, :-1], b_A.T)))/np.linalg.det(A)])\n",
    "\n",
    "X_B = np.array([np.linalg.det(np.hstack((b_B.T, B[:, 1:])))/np.linalg.det(B),\n",
    "                 np.linalg.det(np.hstack((B[:, 0:1], b_B.T, B[:, -1:])))/np.linalg.det(B),\n",
    "                 np.linalg.det(np.hstack((B[:, :-1], b_B.T)))/np.linalg.det(B)])\n",
    "\n",
    "print(f\"Корни системы уравнений 'а)':\\n{X_A}\")\n",
    "print(f\"Корни системы уравнений 'б)':\\n{X_B}\")"
   ]
  },
  {
   "cell_type": "markdown",
   "metadata": {},
   "source": [
    "__2.__ Найти $L$-матрицу $LU$-разложения для матрицы коэффициентов:\n",
    "\n",
    "   а)$$\\begin{pmatrix}\n",
    "1 & 2 & 4 \\\\ \n",
    "2 & 9 & 12 \\\\ \n",
    "3 & 26 & 30\n",
    "\\end{pmatrix}$$\n",
    "    \n",
    "   б)$$\\begin{pmatrix}\n",
    "1 & 1 & 2 & 4\\\\ \n",
    "2 & 5 & 8 & 9\\\\ \n",
    "3 & 18 & 29 & 18\\\\\n",
    "4 & 22 & 53 & 33\n",
    "\\end{pmatrix}$$"
   ]
  },
  {
   "cell_type": "markdown",
   "metadata": {},
   "source": [
    "__Решение__\n",
    "\n",
    "__a)__ Начнем прямой ход метода Гаусса. Для этого домножим первую строку на $2$ и вычтем ее из второго уравнения. При этом запишем в матрицу $L$ на место элемента $l_{21}$ значение $2$. Затем нам нужно вычесть из третьего уравнения первое, домноженное на $3$. Значит, в матрицу $L$ запишем $l_{31}=3$.\n",
    "\n",
    "$\\begin{pmatrix}\n",
    "1 & 2 & 4 \\\\ \n",
    "0 & 5 & 4 \\\\ \n",
    "0 & 20 & 18\n",
    "\\end{pmatrix},\\quad$\n",
    "а матрица $L$ —\n",
    "$\\quad\\begin{pmatrix}\n",
    "1 & 0 & 0 \\\\ \n",
    "2 & 1 & 0 \\\\ \n",
    "3 & l_{32} & 1\n",
    "\\end{pmatrix}.$\n",
    "\n",
    "Далее умножим вторую строку на $4$ и вычтем ее из третьей. При этом в матрицу $L$ на место $l_{32}$ запишем $4$.\n",
    "\n",
    "В итоге получим: $\\quad$\n",
    "$U=\\begin{pmatrix}\n",
    "1 & 2 & 4 \\\\ \n",
    "0 & 5 & 4 \\\\ \n",
    "0 & 0 & 2\n",
    "\\end{pmatrix},\\quad\n",
    "L=\\begin{pmatrix}\n",
    "1 & 0 & 0 \\\\ \n",
    "2 & 1 & 0 \\\\ \n",
    "3 & 4 & 1\n",
    "\\end{pmatrix}.$$$$$\n",
    "\n",
    "__б)__ Вычтем первую строку из остальных, умноженную на $2, 3, 4$ соответственно. Запишем коэффициенты на позиции $l_{21}, l_{31}, l_{41}$.\n",
    "\n",
    "Промежуточные матрицы: $\\quad U$ —\n",
    "$\\quad\\begin{pmatrix}\n",
    "1 & 1 & 2 & 4\\\\ \n",
    "0 & 3 & 4 & 1\\\\ \n",
    "0 & 15 & 23 & 6\\\\\n",
    "0 & 18 & 45 & 17\n",
    "\\end{pmatrix},\\quad$\n",
    "$L$ —\n",
    "$\\quad\\begin{pmatrix}\n",
    "1 & 0 & 0 & 0\\\\ \n",
    "2 & 1 & 0 & 0\\\\ \n",
    "3 & l_{32} & 1 & 0\\\\\n",
    "4 & l_{42} & l_{43} & 1\n",
    "\\end{pmatrix}.$\n",
    "\n",
    "Далее умножим вторую строку на $5$ и вычтем ее из третьей и умножим вторую строку на $6$ и вычтем ее из четвертой. Запишем полученные коэффициенты $5, 6$ на соответствующие позиции $l_{32}, l_{42}$\n",
    "\n",
    "Промежуточные матрицы: $\\quad U$ —\n",
    "$\\quad\\begin{pmatrix}\n",
    "1 & 1 & 2 & 4\\\\ \n",
    "0 & 3 & 4 & 1\\\\ \n",
    "0 & 0 & 3 & 1\\\\\n",
    "0 & 0 & 21 & 11\n",
    "\\end{pmatrix},\\quad$\n",
    "$L$ —\n",
    "$\\quad\\begin{pmatrix}\n",
    "1 & 0 & 0 & 0\\\\ \n",
    "2 & 1 & 0 & 0\\\\ \n",
    "3 & 5 & 1 & 0\\\\\n",
    "4 & 6 & l_{43} & 1\n",
    "\\end{pmatrix}.$\n",
    "\n",
    "Далее умножим третью строку на $7$ и вычтем ее из четвертой. При этом в матрицу $L$ на место $l_{43}$ запишем $7$\n",
    "\n",
    "В итоге получим: $\\quad$\n",
    "$U$ —\n",
    "$\\quad\\begin{pmatrix}\n",
    "1 & 1 & 2 & 4\\\\ \n",
    "0 & 3 & 4 & 1\\\\ \n",
    "0 & 0 & 3 & 1\\\\\n",
    "0 & 0 & 0 & 4\n",
    "\\end{pmatrix},\\quad$\n",
    "$L$ —\n",
    "$\\quad\\begin{pmatrix}\n",
    "1 & 0 & 0 & 0\\\\ \n",
    "2 & 1 & 0 & 0\\\\ \n",
    "3 & 5 & 1 & 0\\\\\n",
    "4 & 6 & 7 & 1\n",
    "\\end{pmatrix}.$"
   ]
  },
  {
   "cell_type": "code",
   "execution_count": 3,
   "metadata": {},
   "outputs": [
    {
     "name": "stdout",
     "output_type": "stream",
     "text": [
      "LU-разложение для матрицы A:\n",
      "L-матрица:\n",
      "[[0.33333333 0.8        1.        ]\n",
      " [0.66666667 1.         0.        ]\n",
      " [1.         0.         0.        ]]\n",
      "U-матрица:\n",
      "[[ 3.         26.         30.        ]\n",
      " [ 0.         -8.33333333 -8.        ]\n",
      " [ 0.          0.          0.4       ]]\n",
      "LU произведение:\n",
      "[[ 1.  2.  4.]\n",
      " [ 2.  9. 12.]\n",
      " [ 3. 26. 30.]]\n",
      "\n",
      "\n",
      "LU-разложение для матрицы B:\n",
      "L-матрица:\n",
      "[[ 0.25       0.75      -0.0619469  1.       ]\n",
      " [ 0.5        1.         0.         0.       ]\n",
      " [ 0.75      -0.25       1.         0.       ]\n",
      " [ 1.         0.         0.         0.       ]]\n",
      "U-матрица:\n",
      "[[  4.          22.          53.          33.        ]\n",
      " [  0.          -6.         -18.5         -7.5       ]\n",
      " [  0.           0.         -42.375       -8.625     ]\n",
      " [  0.           0.           0.           0.84070796]]\n",
      "LU произведение:\n",
      "[[ 1.  1.  2.  4.]\n",
      " [ 2.  5.  8.  9.]\n",
      " [ 3. 18.  2. 18.]\n",
      " [ 4. 22. 53. 33.]]\n"
     ]
    }
   ],
   "source": [
    "A = np.array([[1, 2, 4], [2, 9, 12], [3, 26, 30]])\n",
    "B = np.array([[1, 1, 2, 4], [2, 5, 8, 9], [3, 18, 2, 18], [4, 22, 53, 33]])\n",
    "\n",
    "PL_A, U_A = scipy.linalg.lu(A, permute_l=True)\n",
    "PL_B, U_B = scipy.linalg.lu(B, permute_l=True)\n",
    "\n",
    "print(f\"LU-разложение для матрицы A:\\nL-матрица:\\n{PL_A}\\nU-матрица:\\n{U_A}\\nLU произведение:\\n{np.dot(PL_A, U_A)}\")\n",
    "print('\\n')\n",
    "print(f\"LU-разложение для матрицы B:\\nL-матрица:\\n{PL_B}\\nU-матрица:\\n{U_B}\\nLU произведение:\\n{np.dot(PL_B, U_B)}\")"
   ]
  },
  {
   "cell_type": "markdown",
   "metadata": {},
   "source": [
    "__3.__ Решить систему линейных уравнений методом $LU$-разложения\n",
    "\n",
    "$$\\begin{cases}\n",
    "2x_{1}+x_{2}+3x_{3}=1 \\\\\n",
    "11x_{1}+7x_{2}+5x_{3}=-6 \\\\\n",
    "9x_{1}+8x_{2}+4x_{3}=-5\n",
    "\\end{cases}$$"
   ]
  },
  {
   "cell_type": "code",
   "execution_count": 4,
   "metadata": {},
   "outputs": [
    {
     "name": "stdout",
     "output_type": "stream",
     "text": [
      "Корни СЛАУ, найденные с помощью LU-разложения:\n",
      "[-1.  0.  1.]\n",
      "Корни СЛАУ, найденные с помощью обратной матрицы:\n",
      "[-1.  0.  1.]\n",
      "Корни СЛАУ, найденные с помощью функции solve:\n",
      "[-1.  0.  1.]\n"
     ]
    }
   ],
   "source": [
    "A = np.array([[2, 1, 3], [11, 7, 5], [9, 8, 4]])\n",
    "B = np.array([1, -6, -5])\n",
    "\n",
    "PL, U = scipy.linalg.lu(A, permute_l=True)\n",
    "\n",
    "print(f\"Корни СЛАУ, найденные с помощью LU-разложения:\\n{np.around(np.dot(np.linalg.inv(U), np.dot(np.linalg.inv(PL), B)))}\")\n",
    "print(f\"Корни СЛАУ, найденные с помощью обратной матрицы:\\n{np.around((np.dot(np.linalg.inv(A), B)))}\")\n",
    "print(f\"Корни СЛАУ, найденные с помощью функции solve:\\n{np.around((np.linalg.solve(A, B)))}\")"
   ]
  },
  {
   "cell_type": "markdown",
   "metadata": {},
   "source": [
    "__4.__ Решить систему линейных уравнений методом Холецкого\n",
    "\n",
    "$$\\begin{cases}\n",
    "81x_{1}-45x_{2}+45x_{3}=531 \\\\\n",
    "-45x_{1}+50x_{2}-15x_{3}=-460 \\\\\n",
    "45x_{1}-15x_{2}+38x_{3}=193\n",
    "\\end{cases}$$"
   ]
  },
  {
   "cell_type": "markdown",
   "metadata": {},
   "source": [
    "__Решение__\n",
    "\n",
    "Произведем разложение на $LL^{T}$:\n",
    "\n",
    "$l_{11}=\\sqrt{a_{11}}=9,$\n",
    "\n",
    "$l_{21}=\\frac{a_{21}}{l_{11}}=\\frac{-45}{\\sqrt{9}}=-5,$\n",
    "\n",
    "$l_{31}=\\frac{a_{31}}{l_{11}}=\\frac{45}{\\sqrt{9}}=5,$\n",
    "\n",
    "$l_{22}=\\sqrt{a_{22}-l_{21}^{2}}=\\sqrt{50 - 5^2}=5,$\n",
    "\n",
    "$l_{32}=\\frac{1}{l_{22}}\\left ( a_{32}-l_{21}l_{31} \\right)=\\frac{1}{5}\\cdot(-15-(-5)\\cdot 5)=\\frac{1}{5}\\cdot 10=2,$\n",
    "\n",
    "$l_{33}=\\sqrt{a_{33}-l_{13}^{2}-l_{23}^{2}}=\\sqrt{38-25-4}=3.$\n",
    "\n",
    "Получили матрицу \n",
    "\n",
    "$L = \\begin{pmatrix}\n",
    "9 & 0 & 0 \\\\ \n",
    "-5 & 5 & 0 \\\\ \n",
    "5 & 2 & 3\n",
    "\\end{pmatrix}, \n",
    "\\; \\; \n",
    "L^{T} = \\begin{pmatrix}\n",
    "9 & -5 & 5 \\\\ \n",
    "0 & 5 & 2 \\\\ \n",
    "0 & 0 & 3\n",
    "\\end{pmatrix}.$\n",
    "\n",
    "Решим систему $Ly=b:$\n",
    "\n",
    "$\\begin{cases}\n",
    "9y_{1}=531, \\\\\n",
    "-5y_{1}+5y_{2}=-460, \\\\\n",
    "5y_{1}+2y_{2}+3y_{3}=193.\n",
    "\\end{cases}$\n",
    "\n",
    "$y_{1} = 59,$\n",
    "\n",
    "$y_{2}=\\frac{-460+295}{5}=-33,$\n",
    "\n",
    "$y_{3}=\\frac{193-295+66}{3}=-12.$\n",
    "\n",
    "И решим систему $L^{T}x=y:$\n",
    "\n",
    "$\\begin{cases}\n",
    "9x_{1}-5x_{2}+5x_{3}=59, \\\\\n",
    "5x_{2}+2x_{3}=-33, \\\\\n",
    "3x_{3}=-12.\n",
    "\\end{cases}$\n",
    "\n",
    "$x_{3}=\\frac{-12}{3}=-4,$\n",
    "\n",
    "$x_{2}=\\frac{-33+8}{5}=-5,$\n",
    "\n",
    "$x_{1}=\\frac{59-25+20}{9}=6.$"
   ]
  },
  {
   "cell_type": "code",
   "execution_count": 5,
   "metadata": {},
   "outputs": [
    {
     "name": "stdout",
     "output_type": "stream",
     "text": [
      "Матрица L из разложения Холецкого:\n",
      "[[ 9.  0.  0.]\n",
      " [-5.  5.  0.]\n",
      " [ 5.  2.  3.]]\n",
      "\n",
      "Y из разложения Холецкого:\n",
      "[ 59. -33. -12.]\n",
      "\n",
      "X из разложения Холецкого:\n",
      "[ 6. -5. -4.]\n"
     ]
    }
   ],
   "source": [
    "A = np.array([[81, -45, 45], [-45, 50, -15], [45, -15, 38]])\n",
    "B = np.array([531, -460, 193])\n",
    "\n",
    "L = np.linalg.cholesky(A)\n",
    "Y = np.dot(np.linalg.inv(L), B)\n",
    "X = np.dot(np.linalg.inv(L.T), Y)\n",
    "\n",
    "print(f'Матрица L из разложения Холецкого:\\n{L}\\n')\n",
    "print(f'Y из разложения Холецкого:\\n{Y}\\n')\n",
    "print(f'X из разложения Холецкого:\\n{X}')"
   ]
  },
  {
   "cell_type": "markdown",
   "metadata": {},
   "source": [
    "__5*.__ Написать на Python программу с реализацией одного из изученных алгоритмов решения СЛАУ."
   ]
  },
  {
   "cell_type": "code",
   "execution_count": 6,
   "metadata": {},
   "outputs": [],
   "source": [
    "def kramer_metod(A, B):\n",
    "    \n",
    "    det_A = np.linalg.det(A)\n",
    "    \n",
    "    if det_A!=0 and A.shape[0]==A.shape[1]:\n",
    "        \n",
    "        M = np.array([])\n",
    "        X = []\n",
    "        \n",
    "        for j in range(len(A)):\n",
    "            \n",
    "            M = A.copy()\n",
    "            M[:, j] = B\n",
    "            X.append(round(np.linalg.det(M)/det_A))\n",
    "            \n",
    "        return X\n",
    "    else:\n",
    "        return False"
   ]
  },
  {
   "cell_type": "code",
   "execution_count": 7,
   "metadata": {},
   "outputs": [
    {
     "name": "stdout",
     "output_type": "stream",
     "text": [
      "[6.0, -5.0, -4.0]\n"
     ]
    }
   ],
   "source": [
    "A = np.array([[81, -45, 45], [-45, 50, -15], [45, -15, 38]])\n",
    "B = np.array([[531, -460, 193]])\n",
    "\n",
    "print(kramer_metod(A, B))"
   ]
  }
 ],
 "metadata": {
  "kernelspec": {
   "display_name": "Python 3",
   "language": "python",
   "name": "python3"
  },
  "language_info": {
   "codemirror_mode": {
    "name": "ipython",
    "version": 3
   },
   "file_extension": ".py",
   "mimetype": "text/x-python",
   "name": "python",
   "nbconvert_exporter": "python",
   "pygments_lexer": "ipython3",
   "version": "3.7.3"
  }
 },
 "nbformat": 4,
 "nbformat_minor": 2
}
