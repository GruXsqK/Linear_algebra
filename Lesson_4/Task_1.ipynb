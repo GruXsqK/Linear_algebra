{
 "cells": [
  {
   "cell_type": "markdown",
   "metadata": {},
   "source": [
    "## Практическое задание 4-1"
   ]
  },
  {
   "cell_type": "code",
   "execution_count": 1,
   "metadata": {},
   "outputs": [],
   "source": [
    "import numpy as np"
   ]
  },
  {
   "cell_type": "markdown",
   "metadata": {},
   "source": [
    "__1.__ Решить систему уравнений методом Гаусса:\n",
    "\n",
    "$$\\begin{cases}\n",
    "x_{1}+x_{2}-x_{3}-2x_{4}=0, \\\\\n",
    "2x_{1}+x_{2}-x_{3}+x_{4}=-2, \\\\\n",
    "x_{1}+x_{2}-3x_{3}+x_{4}=4.\n",
    "\\end{cases}$$"
   ]
  },
  {
   "cell_type": "markdown",
   "metadata": {},
   "source": [
    "__Решение:__\n",
    "\n",
    "Построим расширенную матрицу:\n",
    "\n",
    "$\\begin{pmatrix}\n",
    "\\left.\\begin{matrix}\n",
    "1 & 1 & -1 & -2\\\\ \n",
    "2 & 1 & -1 & 1\\\\ \n",
    "1 & 1 & -3 & 1\n",
    "\\end{matrix}\\right|\n",
    "\\begin{matrix}\n",
    "0\\\\-2\\\\4\n",
    "\\end{matrix}\n",
    "\\end{pmatrix}$\n",
    "\n",
    "Вычтем удвоенную первую строку из второй, и первую из третьей:\n",
    "\n",
    "$\\begin{pmatrix}\n",
    "\\left.\\begin{matrix}\n",
    "1 & 1 & -1 & -2\\\\ \n",
    "0 & -1 & 1 & 5\\\\ \n",
    "0 & 0 & -2 & 3\n",
    "\\end{matrix}\\right|\n",
    "\\begin{matrix}\n",
    "0\\\\-2\\\\4\n",
    "\\end{matrix}\n",
    "\\end{pmatrix}$\n",
    "\n",
    "Оставшаяся матрица соответствует системе:\n",
    "\n",
    "$\\begin{cases}\n",
    "x_{1}+x_{2}-x_{3}-2x_{4}=0, \\\\\n",
    "-x_{2}+x_{3}+5x_{4}=-2, \\\\\n",
    "-2x_{3}+3x_{4}=4.\n",
    "\\end{cases}$\n",
    "\n",
    "Примем $x_4 = c$, тогда:\n",
    "\n",
    "$-2x_3+3c=4\\Leftrightarrow x_3=\\frac{3}{2}c-2$\n",
    "\n",
    "$-x_2+x_3+5c=-2\\Leftrightarrow x_2=\\frac{13}{2}c$\n",
    "\n",
    "$x_1+x_2-x_3-x_4=0\\Leftrightarrow x_1=-3c-2$\n",
    "\n",
    "Общее решение:\n",
    "\n",
    "$x_1=-3c-2\\quad x_2=\\frac{13}{2}c\\quad x_3=\\frac{3}{2}c-2\\quad x_4=c$\n",
    "\n",
    "Частное решение при $с=0$:\n",
    "\n",
    "$x_1=-2\\quad x_2=0\\quad x_3=-2\\quad x_4=0$"
   ]
  },
  {
   "cell_type": "markdown",
   "metadata": {},
   "source": [
    "__2.__ Проверить на совместность и выяснить, сколько решений будет иметь система линейных уравнений:\n",
    "\n",
    "   а) $\\begin{cases}\n",
    "3x_{1}-x_{2}+x_{3}=4, \\\\\n",
    "2x_{1}-5x_{2}-3x_{3}=-17, \\\\\n",
    "x_{1}+x_{2}-x_{3}=0;\n",
    "\\end{cases}$\n",
    "    \n",
    "   б) $\\begin{cases}\n",
    "2x_{1}-4x_{2}+6x_{3}=1, \\\\\n",
    "x_{1}-2x_{2}+3x_{3}=-2, \\\\\n",
    "3x_{1}-6x_{2}+9x_{3}=5;\n",
    "\\end{cases}$\n",
    "    \n",
    "   в) $\\begin{cases}\n",
    "x_{1}+2x_{2}+5x_{3}=4, \\\\\n",
    "3x_{1}+x_{2}-8x_{3}=-2. \n",
    "\\end{cases}$"
   ]
  },
  {
   "cell_type": "code",
   "execution_count": 2,
   "metadata": {},
   "outputs": [
    {
     "name": "stdout",
     "output_type": "stream",
     "text": [
      "a) матрицы совместны и имеют единственное решение\n",
      "b) матрицы несовместны\n",
      "c) матрицы совместны и имеют множество решений\n"
     ]
    }
   ],
   "source": [
    "A = np.array([[3, -1, 1], [2, -5, -3], [1, 1, -1]])\n",
    "b_a = np.array([[4, -17, 0]])\n",
    "A_extended = np.concatenate((A, b_a.T), axis=1)\n",
    "\n",
    "B = np.array([[2, -4, 6], [1, -2, 3], [3, -6, 9]])\n",
    "b_b = np.array([[1, -2, 5]])\n",
    "B_extended = np.concatenate((B, b_b.T), axis=1)\n",
    "\n",
    "C = np.array([[1, 2, 5], [3, 1, -8]])\n",
    "b_c = np.array([[4, -2]])\n",
    "C_extended = np.concatenate((C, b_c.T), axis=1)\n",
    "\n",
    "print('a) матрицы несовместны' if np.linalg.matrix_rank(A)!=np.linalg.matrix_rank(A_extended) \n",
    "      else 'a) матрицы совместны и имеют единственное решение' \n",
    "      if np.linalg.matrix_rank(A)==A.shape[1] \n",
    "      else 'a) матрицы совместны и имеют множество решений')\n",
    "\n",
    "print('b) матрицы несовместны' if np.linalg.matrix_rank(B)!=np.linalg.matrix_rank(B_extended) \n",
    "      else 'b) матрицы совместны и имеют единственное решение' \n",
    "      if np.linalg.matrix_rank(B)==B.shape[1] \n",
    "      else 'b) матрицы совместны и имеют множество решений')\n",
    "\n",
    "print('c) матрицы несовместны' if np.linalg.matrix_rank(C)!=np.linalg.matrix_rank(C_extended) \n",
    "      else 'c) матрицы совместны и имеют единственное решение' \n",
    "      if np.linalg.matrix_rank(C)==C.shape[1] \n",
    "      else 'c) матрицы совместны и имеют множество решений')"
   ]
  },
  {
   "cell_type": "markdown",
   "metadata": {},
   "source": [
    "__3.__ Проверить на совместность и выяснить, сколько решений будет иметь система линейных уравнений, заданная расширенной матрицей\n",
    "\n",
    "$$\\tilde{A}=\\begin{pmatrix}\n",
    "\\left.\\begin{matrix}\n",
    "1 & 3 & -2 & 4\\\\ \n",
    "0 & 5 & 0 & 1\\\\ \n",
    "0 & 0 & 3 & 0\\\\ \n",
    "0 & 0 & 0 & 2\n",
    "\\end{matrix}\\right|\n",
    "\\begin{matrix}\n",
    "3\\\\ \n",
    "2\\\\\n",
    "4\\\\\n",
    "1\n",
    "\\end{matrix}\n",
    "\\end{pmatrix}.$$"
   ]
  },
  {
   "cell_type": "code",
   "execution_count": 3,
   "metadata": {},
   "outputs": [
    {
     "name": "stdout",
     "output_type": "stream",
     "text": [
      "Матрицы совместны и имеют единственное решение\n"
     ]
    }
   ],
   "source": [
    "A_extended = np.array([[1, 3, -2, 4, 3], [0, 5, 0, 1, 2], [0, 0, 3, 0, 4], [0, 0, 0, 2, 1]])\n",
    "A = A_extended[:, :-1]\n",
    "\n",
    "print('Матрицы несовместны' if np.linalg.matrix_rank(A)!=np.linalg.matrix_rank(A_extended) \n",
    "      else 'Матрицы совместны и имеют единственное решение' \n",
    "      if np.linalg.matrix_rank(A)==A.shape[1] \n",
    "      else 'Матрицы совместны и имеют множество решений')"
   ]
  },
  {
   "cell_type": "markdown",
   "metadata": {},
   "source": [
    "__4.__ Дана система линейных уравнений, заданная расширенной матрицей\n",
    "\n",
    "$$\\tilde{A}=\\begin{pmatrix}\n",
    "\\left.\\begin{matrix}\n",
    "1 & 2 & 3\\\\ \n",
    "4 & 5 & 6\\\\ \n",
    "7 & 8 & 9\n",
    "\\end{matrix}\\right|\n",
    "\\begin{matrix}\n",
    "a\\\\ \n",
    "b\\\\\n",
    "c\n",
    "\\end{matrix}\n",
    "\\end{pmatrix}.$$\n",
    "\n",
    "Найти соотношение между параметрами $a$, $b$ и $c$, при которых система является несовместной."
   ]
  },
  {
   "cell_type": "markdown",
   "metadata": {},
   "source": [
    "Система является несовместимой при $rankA<rank \\tilde A$, преобразуем матрицу для вычисления $rankA$:\n",
    "\n",
    "Добавим к первой строке, умноженной на $-4$, вторую и умножим вторую на $-7$, а третью на $4$, прибавим третью ко второй:\n",
    "\n",
    "$\\tilde{A}=\\begin{pmatrix}\n",
    "\\left.\\begin{matrix}\n",
    "0 & -3 & -6\\\\\n",
    "0 & -3 & -6\\\\\n",
    "7 & 8 & 9\n",
    "\\end{matrix}\\right|\n",
    "\\begin{matrix}\n",
    "-4a+b\\\\ \n",
    "-7b+4c\\\\\n",
    "c\n",
    "\\end{matrix}\n",
    "\\end{pmatrix}$\n",
    "\n",
    "Поскольку в матрице $A$ первая и вторая строки равны, то $rankA=2$. При данной расширенной матрице система является несовместимой при $rank\\tilde{A}=3$, то есть $rank\\tilde{A}>2$. Данное условие достигается при следующем неравенстве:\n",
    "\n",
    "$-4a+b\\ne-7b+4c\\Leftrightarrow b\\ne\\frac{1}{2}c+\\frac{1}{2}a$"
   ]
  }
 ],
 "metadata": {
  "kernelspec": {
   "display_name": "Python 3",
   "language": "python",
   "name": "python3"
  },
  "language_info": {
   "codemirror_mode": {
    "name": "ipython",
    "version": 3
   },
   "file_extension": ".py",
   "mimetype": "text/x-python",
   "name": "python",
   "nbconvert_exporter": "python",
   "pygments_lexer": "ipython3",
   "version": "3.7.3"
  }
 },
 "nbformat": 4,
 "nbformat_minor": 2
}
