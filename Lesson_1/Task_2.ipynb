{
 "cells": [
  {
   "cell_type": "markdown",
   "metadata": {},
   "source": [
    "## Практическое задание к уроку 1-2"
   ]
  },
  {
   "cell_type": "code",
   "execution_count": 1,
   "metadata": {},
   "outputs": [],
   "source": [
    "import numpy as np\n",
    "from numpy.linalg import norm"
   ]
  },
  {
   "cell_type": "markdown",
   "metadata": {},
   "source": [
    "__1.__ Найти скалярное произведение векторов $x, y \\in \\mathbb{R}$:<br>\n",
    "а) $x=(0,-3, 6),~y=(-4, 7, 9);$<br>\n",
    "б) $x=(7, -4, 0, 1),~y=(-3, 1, 11, 2).$"
   ]
  },
  {
   "cell_type": "markdown",
   "metadata": {},
   "source": [
    "a) $(x, y) = 0\\cdot(-4) + (-3)\\cdot7 + 6\\cdot9 = 33$\n",
    "\n",
    "b) $(x, y) = 7\\cdot(-3) + (-4)\\cdot1 + 0\\cdot11 + 1\\cdot2 = -23$"
   ]
  },
  {
   "cell_type": "code",
   "execution_count": 2,
   "metadata": {},
   "outputs": [
    {
     "name": "stdout",
     "output_type": "stream",
     "text": [
      "a) (x, y) = 33\n",
      "b) (x, y) = -23\n"
     ]
    }
   ],
   "source": [
    "x_1 = np.array([0, -3, 6])\n",
    "y_1 = np.array([-4, 7, 9])\n",
    "x_2 = np.array([7, -4, 0, 1])\n",
    "y_2 = np.array([-3, 1, 11, 2])\n",
    "\n",
    "print(f'a) (x, y) = {np.dot(x_1, y_1)}')\n",
    "print(f'b) (x, y) = {np.dot(x_2, y_2)}')"
   ]
  },
  {
   "cell_type": "markdown",
   "metadata": {},
   "source": [
    "__2.__ Найти нормы векторов $(4, 2, 4)$ и $(12, 3, 4)$ и угол между ними."
   ]
  },
  {
   "cell_type": "markdown",
   "metadata": {},
   "source": [
    "Евклидова норма $a = (4, 2, 4)$: $\\left\\|a\\right\\|_{2} = \\sqrt{4^2+2^2+4^2}=\\sqrt{36}=6$\n",
    "\n",
    "Евклидова норма $b = (12, 3, 4)$: $\\left\\|b\\right\\|_{2} = \\sqrt{12^2+3^2+4^2}=\\sqrt{169}=13$\n",
    "\n",
    "Скалярное произведение $(a, b) = 4\\cdot 12 + 2\\cdot 3 + 4\\cdot 4 = 70$\n",
    "\n",
    "$cos\\varphi = \\frac{(a,b)}{\\left \\|a\\right \\|\\cdot\\left \\|b\\right \\|} = \\frac{70}{6\\cdot13}=0.897$\n",
    "\n",
    "Угол между $a$ и $b$: $\\varphi = arcos(0.897) = 0.4579$ рад"
   ]
  },
  {
   "cell_type": "code",
   "execution_count": 3,
   "metadata": {},
   "outputs": [
    {
     "name": "stdout",
     "output_type": "stream",
     "text": [
      "Евклидова норма вектора a: 6.0\n",
      "Евклидова норма вектора b: 13.0\n",
      "Угол между a и b: 0.4569\n"
     ]
    }
   ],
   "source": [
    "a = np.array([4, 2, 4])\n",
    "b = np.array([12, 3, 4])\n",
    "\n",
    "print(f'Евклидова норма вектора a: {norm(a, ord=2)}')\n",
    "print(f'Евклидова норма вектора b: {norm(b, ord=2)}')\n",
    "print(f'Угол между a и b: {np.arccos(np.dot(a, b)/(norm(a, ord=2)*norm(b, ord=2))):.4f}')"
   ]
  },
  {
   "cell_type": "markdown",
   "metadata": {},
   "source": [
    "__3.__ Будет ли линейное пространство евклидовым, если за скалярное произведение принять:<br>\n",
    "а) произведение длин векторов;<br>\n",
    "б) утроенное обычное скалярное произведение векторов?"
   ]
  },
  {
   "cell_type": "markdown",
   "metadata": {},
   "source": [
    "а) Нет, необходимо еще умножить на косинус угла между ними.\n",
    "\n",
    "б) Да, это удовлетворяет аксиоме $(\\lambda x, y)=\\lambda(x, y)$."
   ]
  },
  {
   "cell_type": "markdown",
   "metadata": {},
   "source": [
    "__4.__ Какие из нижеперечисленных векторов образуют ортонормированный базис в линейном пространстве $\\mathbb{R}^{3}$:<br>\n",
    "а) $(1,0,0),(0,0,1);$ <br>\n",
    "б) $(1/\\sqrt{2},-1/\\sqrt{2},0),(1/\\sqrt{2},1/\\sqrt{2},0), (0,0,1);$<br>\n",
    "в) $(1/2, -1/2, 0), (0, 1/2, 1/2), (0,0,1);$<br>\n",
    "г) $(1,0,0),(0,1,0),(0,0,1)?$"
   ]
  },
  {
   "cell_type": "markdown",
   "metadata": {},
   "source": [
    "а) Не образуют, т.к. в базисе должно быть 3 вектора.\n",
    "\n",
    "б) Образуют, т.к. векторы попарно ортогональны (скалярное произведение двух любых векторов равно нулю) и их длины равны единице.\n",
    "\n",
    "в) Не образуют, т.к вектор $(0, \\frac{1}{2}, \\frac{1}{2})$ не ортогонален к остальным.\n",
    "\n",
    "г) Образуют, т.к. векторы попарно ортогональны и их длины равны единице."
   ]
  }
 ],
 "metadata": {
  "kernelspec": {
   "display_name": "Python 3",
   "language": "python",
   "name": "python3"
  },
  "language_info": {
   "codemirror_mode": {
    "name": "ipython",
    "version": 3
   },
   "file_extension": ".py",
   "mimetype": "text/x-python",
   "name": "python",
   "nbconvert_exporter": "python",
   "pygments_lexer": "ipython3",
   "version": "3.7.3"
  }
 },
 "nbformat": 4,
 "nbformat_minor": 2
}
