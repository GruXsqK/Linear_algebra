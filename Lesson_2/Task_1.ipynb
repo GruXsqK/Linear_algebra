{
 "cells": [
  {
   "cell_type": "markdown",
   "metadata": {},
   "source": [
    "## Практическое задание к уроку 2-1"
   ]
  },
  {
   "cell_type": "code",
   "execution_count": 1,
   "metadata": {},
   "outputs": [],
   "source": [
    "import numpy as np"
   ]
  },
  {
   "cell_type": "markdown",
   "metadata": {},
   "source": [
    "__1.__ Установить, какие произведения матриц $AB$ и $BA$ определены, и найти размерности полученных матриц:\n",
    "\n",
    "   а) $A$ — матрица $4\\times 2$, $B$ — матрица $4\\times 2$;\n",
    "    \n",
    "   б) $A$ — матрица $2\\times 5$, $B$ — матрица $5\\times 3$;\n",
    "    \n",
    "   в) $A$ — матрица $8\\times 3$, $B$ — матрица $3\\times 8$;\n",
    "    \n",
    "   г) $A$ — квадратная матрица $4\\times 4$, $B$ — квадратная матрица $4\\times 4$."
   ]
  },
  {
   "cell_type": "markdown",
   "metadata": {},
   "source": [
    "а) $AB$ и $BA$ матрицы не определены\n",
    "\n",
    "б) $AB$ матрица $2\\times 3$; $BA$ матрица не определена\n",
    "\n",
    "в) $AB$ матрица $8\\times 8$; $BA$ матрица $3\\times 3$\n",
    "\n",
    "г) $AB$ и $BA$ матрицы $4\\times 4$"
   ]
  },
  {
   "cell_type": "markdown",
   "metadata": {},
   "source": [
    "__2.__ Найти сумму и произведение матриц $A=\\begin{pmatrix}\n",
    "1 & -2\\\\ \n",
    "3 & 0\n",
    "\\end{pmatrix}$ и $B=\\begin{pmatrix}\n",
    "4 & -1\\\\ \n",
    "0 & 5\n",
    "\\end{pmatrix}.$"
   ]
  },
  {
   "cell_type": "code",
   "execution_count": 2,
   "metadata": {},
   "outputs": [
    {
     "data": {
      "text/latex": [
       "\\begin{eqnarray*}A+B=\\left(\\begin{array}{cc}5&-3\\\\3&5\\end{array}\\right)\\end{eqnarray*}\n",
       "\\begin{eqnarray*}\\end{eqnarray*}\n",
       "\\begin{eqnarray*}A*B=\\left(\\begin{array}{cc}(1*4+(-2)*0)&(1*(-1)+(-2)*5)\\\\(3*4+0*0)&(3*(-1)+0*5)\\end{array}\\right)=\n",
       "\\left(\\begin{array}{cc}4&-11\\\\12&-3\\end{array}\\right)\\end{eqnarray*}\n",
       "\\begin{eqnarray*}\\end{eqnarray*}\n",
       "\\begin{eqnarray*}B*A=\\left(\\begin{array}{cc}(4*1+(-1)*3)&(4*(-2)+(-1)*0)\\\\(0*1+5*3)&(0*(-2)+5*0)\\end{array}\\right)=\n",
       "\\left(\\begin{array}{cc}1&-8\\\\15&0\\end{array}\\right)\\end{eqnarray*}\n"
      ],
      "text/plain": [
       "<IPython.core.display.Latex object>"
      ]
     },
     "metadata": {},
     "output_type": "display_data"
    }
   ],
   "source": [
    "%%latex\n",
    "\\begin{eqnarray*}A+B=\\left(\\begin{array}{cc}5&-3\\\\3&5\\end{array}\\right)\\end{eqnarray*}\n",
    "\\begin{eqnarray*}\\end{eqnarray*}\n",
    "\\begin{eqnarray*}A*B=\\left(\\begin{array}{cc}(1*4+(-2)*0)&(1*(-1)+(-2)*5)\\\\(3*4+0*0)&(3*(-1)+0*5)\\end{array}\\right)=\n",
    "\\left(\\begin{array}{cc}4&-11\\\\12&-3\\end{array}\\right)\\end{eqnarray*}\n",
    "\\begin{eqnarray*}\\end{eqnarray*}\n",
    "\\begin{eqnarray*}B*A=\\left(\\begin{array}{cc}(4*1+(-1)*3)&(4*(-2)+(-1)*0)\\\\(0*1+5*3)&(0*(-2)+5*0)\\end{array}\\right)=\n",
    "\\left(\\begin{array}{cc}1&-8\\\\15&0\\end{array}\\right)\\end{eqnarray*}"
   ]
  },
  {
   "cell_type": "code",
   "execution_count": 3,
   "metadata": {},
   "outputs": [
    {
     "name": "stdout",
     "output_type": "stream",
     "text": [
      "A + B =\n",
      "[[ 5 -3]\n",
      " [ 3  5]]\n",
      "A * B =\n",
      "[[  4 -11]\n",
      " [ 12  -3]]\n",
      "B * A =\n",
      "[[ 1 -8]\n",
      " [15  0]]\n"
     ]
    }
   ],
   "source": [
    "A = np.array([[1, -2], [3, 0]])\n",
    "B = np.array([[4, -1], [0, 5]])\n",
    "\n",
    "print(f'A + B =\\n{(A + B)}')\n",
    "print(f'A * B =\\n{np.dot(A, B)}')\n",
    "print(f'B * A =\\n{np.dot(B, A)}')"
   ]
  },
  {
   "cell_type": "markdown",
   "metadata": {},
   "source": [
    "__3.__ Из закономерностей сложения и умножения матриц на число можно сделать вывод, что матрицы одного размера образуют линейное пространство. Вычислить линейную комбинацию $3A-2B+4C$ для матриц $A=\\begin{pmatrix}\n",
    "1 & 7\\\\ \n",
    "3 & -6\n",
    "\\end{pmatrix}$, $B=\\begin{pmatrix}\n",
    "0 & 5\\\\ \n",
    "2 & -1\n",
    "\\end{pmatrix}$, $C=\\begin{pmatrix}\n",
    "2 & -4\\\\ \n",
    "1 & 1\n",
    "\\end{pmatrix}.$"
   ]
  },
  {
   "cell_type": "code",
   "execution_count": 4,
   "metadata": {},
   "outputs": [
    {
     "data": {
      "text/latex": [
       "\\begin{eqnarray*}3A-2B+4C=3*\\left(\\begin{array}{cc}1&7\\\\3&-6\\end{array}\\right)-2*\n",
       "\\left(\\begin{array}{cc}0&5\\\\2&-1\\end{array}\\right)+4*\\left(\\begin{array}{cc}2&-4\\\\1&1\\end{array}\\right)=\n",
       "\\left(\\begin{array}{cc}11&-5\\\\9&-12\\end{array}\\right)\\end{eqnarray*}\n"
      ],
      "text/plain": [
       "<IPython.core.display.Latex object>"
      ]
     },
     "metadata": {},
     "output_type": "display_data"
    }
   ],
   "source": [
    "%%latex\n",
    "\\begin{eqnarray*}3A-2B+4C=3*\\left(\\begin{array}{cc}1&7\\\\3&-6\\end{array}\\right)-2*\n",
    "\\left(\\begin{array}{cc}0&5\\\\2&-1\\end{array}\\right)+4*\\left(\\begin{array}{cc}2&-4\\\\1&1\\end{array}\\right)=\n",
    "\\left(\\begin{array}{cc}11&-5\\\\9&-12\\end{array}\\right)\\end{eqnarray*}"
   ]
  },
  {
   "cell_type": "code",
   "execution_count": 5,
   "metadata": {},
   "outputs": [
    {
     "name": "stdout",
     "output_type": "stream",
     "text": [
      "3A - 2B + 4C =\n",
      "[[ 11  -5]\n",
      " [  9 -12]]\n"
     ]
    }
   ],
   "source": [
    "A = np.array([[1, 7], [3, -6]])\n",
    "B = np.array([[0, 5], [2, -1]])\n",
    "C = np.array([[2, -4], [1, 1]])\n",
    "\n",
    "print(f'3A - 2B + 4C =\\n{3*A-2*B+4*C}')"
   ]
  },
  {
   "cell_type": "markdown",
   "metadata": {},
   "source": [
    "__4.__ Дана матрица $A=\\begin{pmatrix}\n",
    "4 & 1\\\\ \n",
    "5 & -2\\\\ \n",
    "2 & 3\n",
    "\\end{pmatrix}$.\n",
    "Вычислить $AA^{T}$ и $A^{T}A$."
   ]
  },
  {
   "cell_type": "code",
   "execution_count": 6,
   "metadata": {},
   "outputs": [
    {
     "data": {
      "text/latex": [
       "\\begin{eqnarray*}A^T=\\left(\\begin{array}{ccc}4&5&2\\\\1&-2&3\\end{array}\\right)\\end{eqnarray*}\\begin{eqnarray*}\\end{eqnarray*}\n",
       "\\begin{eqnarray*}AA^T=\\left(\\begin{array}{ccc}\n",
       "                            (4*4+1*1)&(4*5+(-2)*1)&(4*2+1*3)\\\\\n",
       "                            (5*4+(-2)*1)&(5*5+(-2)*(-2))&(5*2+(-2)*3)\\\\\n",
       "                            (2*4+3*1)&(2*5+(-2)*3)&(2*2+3*3)\\end{array}\\right)=\n",
       "\\left(\\begin{array}{ccc}17&18&11\\\\18&29&4\\\\11&4&10\\end{array}\\right)\\end{eqnarray*}\\begin{eqnarray*}\\end{eqnarray*}\n",
       "\\begin{eqnarray*}A^TA=\\left(\\begin{array}{cc}\n",
       "                            (4*4+5*5+2*2)&(4*1+5*(-2)+2*3)\\\\\n",
       "                            (4*1+5*(-2)+2*3)&(1*1+(-2)*(-2)+3*3)\\end{array}\\right)=\n",
       "\\left(\\begin{array}{ccc}45&0\\\\0&14\\end{array}\\right)\\end{eqnarray*}\n"
      ],
      "text/plain": [
       "<IPython.core.display.Latex object>"
      ]
     },
     "metadata": {},
     "output_type": "display_data"
    }
   ],
   "source": [
    "%%latex\n",
    "\\begin{eqnarray*}A^T=\\left(\\begin{array}{ccc}4&5&2\\\\1&-2&3\\end{array}\\right)\\end{eqnarray*}\\begin{eqnarray*}\\end{eqnarray*}\n",
    "\\begin{eqnarray*}AA^T=\\left(\\begin{array}{ccc}\n",
    "                            (4*4+1*1)&(4*5+(-2)*1)&(4*2+1*3)\\\\\n",
    "                            (5*4+(-2)*1)&(5*5+(-2)*(-2))&(5*2+(-2)*3)\\\\\n",
    "                            (2*4+3*1)&(2*5+(-2)*3)&(2*2+3*3)\\end{array}\\right)=\n",
    "\\left(\\begin{array}{ccc}17&18&11\\\\18&29&4\\\\11&4&10\\end{array}\\right)\\end{eqnarray*}\\begin{eqnarray*}\\end{eqnarray*}\n",
    "\\begin{eqnarray*}A^TA=\\left(\\begin{array}{cc}\n",
    "                            (4*4+5*5+2*2)&(4*1+5*(-2)+2*3)\\\\\n",
    "                            (4*1+5*(-2)+2*3)&(1*1+(-2)*(-2)+3*3)\\end{array}\\right)=\n",
    "\\left(\\begin{array}{ccc}45&0\\\\0&14\\end{array}\\right)\\end{eqnarray*}"
   ]
  },
  {
   "cell_type": "code",
   "execution_count": 7,
   "metadata": {},
   "outputs": [
    {
     "name": "stdout",
     "output_type": "stream",
     "text": [
      "A*A^T = \n",
      "[[17 18 11]\n",
      " [18 29  4]\n",
      " [11  4 13]]\n",
      "\n",
      "A^T*A = \n",
      "[[45  0]\n",
      " [ 0 14]]\n"
     ]
    }
   ],
   "source": [
    "A = np.array([[4, 1], [5, -2], [2, 3]])\n",
    "\n",
    "print(f'A*A^T = \\n{np.dot(A, A.T)}')\n",
    "print(f'\\nA^T*A = \\n{np.dot(A.T, A)}')"
   ]
  },
  {
   "cell_type": "markdown",
   "metadata": {},
   "source": [
    "__5*.__ Написать на Python функцию для перемножения двух произвольных матриц, не используя NumPy."
   ]
  },
  {
   "cell_type": "code",
   "execution_count": 8,
   "metadata": {},
   "outputs": [],
   "source": [
    "def matrix_multiplication(M_1, M_2):\n",
    "    \n",
    "    def size_matrix(M):\n",
    "        \n",
    "        i = len(M)\n",
    "        j = set()\n",
    "        \n",
    "        for line in M:\n",
    "            \n",
    "            j.add(len(line))\n",
    "\n",
    "        if len(j) > 1:\n",
    "            return False, False\n",
    "        else:\n",
    "            return i, j.pop()\n",
    "        \n",
    "    M_1_size, M_2_size = size_matrix(M_1), size_matrix(M_2)\n",
    "    \n",
    "    if M_1_size[1]==M_2_size[0] and M_1_size[1]!=False:\n",
    "        \n",
    "        M_2_transposed = list(map(list, zip(*M_2)))\n",
    "        M_mult = [[None for elm in range(M_2_size[1])] for line in range(M_1_size[0])]\n",
    "        \n",
    "        for i, line_M_1 in enumerate(M_1):\n",
    "            \n",
    "            for j, line_M_2 in enumerate(M_2_transposed):\n",
    "                \n",
    "                M_mult[i][j] = sum(list(map(lambda x, y: x*y, line_M_1, line_M_2)))\n",
    "                \n",
    "        return M_mult\n",
    "    else:\n",
    "        return M_1_size, M_2_size, f'Произведение матриц (векторов) не определено'"
   ]
  },
  {
   "cell_type": "code",
   "execution_count": 9,
   "metadata": {},
   "outputs": [
    {
     "name": "stdout",
     "output_type": "stream",
     "text": [
      "A*B = [[22, 28], [49, 64], [76, 100], [103, 136]]\n",
      "A*B = [[39]]\n",
      "B*A = [[1, 3, 4, 5], [2, 6, 8, 10], [3, 9, 12, 15], [4, 12, 16, 20]]\n"
     ]
    }
   ],
   "source": [
    "A = [[1, 2, 3], [4, 5, 6], [7, 8, 9], [10, 11, 12]]\n",
    "B = [[1, 2], [3, 4], [5, 6]]\n",
    "\n",
    "print(f'A*B = {matrix_multiplication(A, B)}')\n",
    "\n",
    "a = [[1, 3, 4, 5]]\n",
    "b = [[1], [2], [3], [4]]\n",
    "\n",
    "print(f'A*B = {matrix_multiplication(a, b)}')\n",
    "print(f'B*A = {matrix_multiplication(b, a)}')"
   ]
  }
 ],
 "metadata": {
  "kernelspec": {
   "display_name": "Python 3",
   "language": "python",
   "name": "python3"
  },
  "language_info": {
   "codemirror_mode": {
    "name": "ipython",
    "version": 3
   },
   "file_extension": ".py",
   "mimetype": "text/x-python",
   "name": "python",
   "nbconvert_exporter": "python",
   "pygments_lexer": "ipython3",
   "version": "3.7.3"
  }
 },
 "nbformat": 4,
 "nbformat_minor": 2
}
