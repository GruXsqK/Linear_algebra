{
 "cells": [
  {
   "cell_type": "markdown",
   "metadata": {},
   "source": [
    "## Практическое задание к уроку 2-2"
   ]
  },
  {
   "cell_type": "code",
   "execution_count": 1,
   "metadata": {},
   "outputs": [],
   "source": [
    "import numpy as np"
   ]
  },
  {
   "cell_type": "markdown",
   "metadata": {},
   "source": [
    "__1.__ Вычислить определитель:\n",
    "\n",
    "a)\n",
    "$\\begin{vmatrix}\n",
    "sinx & -cosx\\\\ \n",
    "cosx & sinx\n",
    "\\end{vmatrix};$\n",
    "\n",
    "б)\n",
    "$\\begin{vmatrix}\n",
    "4 & 2 & 3\\\\ \n",
    "0 & 5 & 1\\\\ \n",
    "0 & 0 & 9\n",
    "\\end{vmatrix};$\n",
    "    \n",
    "в)\n",
    "$\\begin{vmatrix}\n",
    "1 & 2 & 3\\\\ \n",
    "4 & 5 & 6\\\\ \n",
    "7 & 8 & 9\n",
    "\\end{vmatrix}.$"
   ]
  },
  {
   "cell_type": "markdown",
   "metadata": {},
   "source": [
    "a) $\\begin{vmatrix}\n",
    "sinx & -cosx\\\\ \n",
    "cosx & sinx\n",
    "\\end{vmatrix}=sinx*sinx+cosx*cosx=1$\n",
    "\n",
    "б)\n",
    "$\\begin{vmatrix}\n",
    "4 & 2 & 3\\\\ \n",
    "0 & 5 & 1\\\\ \n",
    "0 & 0 & 9\n",
    "\\end{vmatrix}=\n",
    "4*\\begin{vmatrix}5 & 1\\\\0 & 9\\end{vmatrix}\n",
    "-0*\\begin{vmatrix}2 & 3\\\\0 & 9\\end{vmatrix}\n",
    "+0*\\begin{vmatrix}2 & 3\\\\5 & 1\\end{vmatrix}=4*(5*9-0*9)=180$ \n",
    "\n",
    "в)\n",
    "$\\begin{vmatrix}\n",
    "1 & 2 & 3\\\\ \n",
    "4 & 5 & 6\\\\ \n",
    "7 & 8 & 9\n",
    "\\end{vmatrix}=\\begin{vmatrix}1 & 2 & 3\\\\1 & 2 & 3\\\\1 & 2 & 3\\end{vmatrix}+\\begin{matrix}0\\\\3\\\\6\\end{matrix}=0$"
   ]
  },
  {
   "cell_type": "code",
   "execution_count": 2,
   "metadata": {},
   "outputs": [
    {
     "name": "stdout",
     "output_type": "stream",
     "text": [
      "|A| = 1\n",
      "|B| = 180\n",
      "|C| = -0\n"
     ]
    }
   ],
   "source": [
    "x = 5\n",
    "A = np.array([[np.sin(x), -np.cos(x)], [np.cos(x), np.sin(x)]])\n",
    "B = np.array([[4, 2, 3], [0, 5, 1], [0, 0, 9]])\n",
    "C = np.array([[1, 2, 3], [4, 5, 6], [7, 8, 9]])\n",
    "\n",
    "print(f'|A| = {np.linalg.det(A):.0f}')\n",
    "print(f'|B| = {np.linalg.det(B):.0f}')\n",
    "print(f'|C| = {np.linalg.det(C):.0f}')"
   ]
  },
  {
   "cell_type": "markdown",
   "metadata": {},
   "source": [
    "__2.__ Определитель матрицы $A$ равен $4$. Найти:\n",
    "\n",
    "   а) $det(A^{2})$;\n",
    "    \n",
    "   б) $det(A^{T})$;\n",
    "    \n",
    "   в) $det(2A)$."
   ]
  },
  {
   "cell_type": "markdown",
   "metadata": {},
   "source": [
    "а) $det(A^{2})=det(A)*det(A)=16\\quad\\text{# 9-ое cвойство определителя}$;\n",
    "    \n",
    "б) $det(A^{T})=det(A)=4\\quad\\text{# 1-ое cвойство определителя}$;\n",
    "    \n",
    "в) $det(2A)=2^n*det(A)=4*2^n=2^{n+2}\\quad\\text{# где n-порядок матрицы}$."
   ]
  },
  {
   "cell_type": "markdown",
   "metadata": {},
   "source": [
    "__3.__  Доказать, что матрица\n",
    "\n",
    "$\\begin{pmatrix}\n",
    "-2 & 7 & -3\\\\ \n",
    "4 & -14 & 6\\\\ \n",
    "-3 & 7 & 13\n",
    "\\end{pmatrix}$\n",
    "   \n",
    "вырожденная."
   ]
  },
  {
   "cell_type": "markdown",
   "metadata": {},
   "source": [
    "Преобразуем вторую строку, прибавив к ней первую, умноженную на 2;\n",
    "\n",
    "$\\begin{pmatrix}\n",
    "-2 & 7 & -3\\\\ \n",
    "0 & 0 & 0\\\\ \n",
    "-3 & 7 & 13\n",
    "\\end{pmatrix}$\n",
    "\n",
    "По 4-ому свойству определителя: $detA=0$"
   ]
  },
  {
   "cell_type": "code",
   "execution_count": 3,
   "metadata": {},
   "outputs": [
    {
     "data": {
      "text/plain": [
       "0.0"
      ]
     },
     "execution_count": 3,
     "metadata": {},
     "output_type": "execute_result"
    }
   ],
   "source": [
    "np.linalg.det(np.array([[-2, 7, -3], [4, -14, 6], [-3, 7, 13]]))"
   ]
  },
  {
   "cell_type": "markdown",
   "metadata": {},
   "source": [
    "__4.__ Найти ранг матрицы:\n",
    "\n",
    "   а) $\\begin{pmatrix}\n",
    "1 & 2 & 3\\\\ \n",
    "1 & 1 & 1\\\\ \n",
    "2 & 3 & 4\n",
    "\\end{pmatrix};$\n",
    "\n",
    "   б) $\\begin{pmatrix}\n",
    "0 & 0 & 2 & 1\\\\ \n",
    "0 & 0 & 2 & 2\\\\ \n",
    "0 & 0 & 4 & 3\\\\ \n",
    "2 & 3 & 5 & 6\n",
    "\\end{pmatrix}.$"
   ]
  },
  {
   "cell_type": "markdown",
   "metadata": {},
   "source": [
    "а) Третья строка является суммой первой и второй строк, а значит, ее можно отбросить. Далее вычтем вторую строку из первой.\n",
    "\n",
    "$rank\\begin{pmatrix}\n",
    "0 & 1 & 2\\\\ \n",
    "1 & 1 & 1\n",
    "\\end{pmatrix}=2$\n",
    "\n",
    "б) Третья строка является суммой первой и второй строк, а значит, ее можно отбросить. Второй столбец является линейной комбинацией первого столбца с коэффициентом $\\frac{3}{2}$, отбросим его.\n",
    "\n",
    "$rank\\begin{pmatrix}\n",
    "0 & 2 & 1\\\\ \n",
    "0 & 2 & 2\\\\ \n",
    "2 & 5 & 6\n",
    "\\end{pmatrix}=3$"
   ]
  },
  {
   "cell_type": "code",
   "execution_count": 4,
   "metadata": {},
   "outputs": [
    {
     "name": "stdout",
     "output_type": "stream",
     "text": [
      "rank(A) = 2\n",
      "rank(B) = 3\n"
     ]
    }
   ],
   "source": [
    "A = np.array([[1, 2, 3], [1, 1, 1], [2, 3, 4]])\n",
    "B = np.array([[0, 0, 2, 1], [0, 0, 2, 2], [0, 0, 4, 3], [2, 3, 5, 6]])\n",
    "\n",
    "print(f'rank(A) = {np.linalg.matrix_rank(A)}')\n",
    "print(f'rank(B) = {np.linalg.matrix_rank(B)}')"
   ]
  },
  {
   "cell_type": "code",
   "execution_count": 5,
   "metadata": {},
   "outputs": [],
   "source": [
    "def determinant_matrix(M):\n",
    "    \n",
    "    size_set = set([len(line) for line in M])\n",
    "    \n",
    "    if len(size_set) < 2 and size_set.pop()==len(M):\n",
    "        \n",
    "        determinant = 0\n",
    "        \n",
    "        for i, elem in enumerate(M[0]):\n",
    "            \n",
    "            mult_elements_plus, mult_elements_minus = 1, 1\n",
    "            j = 0\n",
    "            k = len(M) - 1\n",
    "            \n",
    "            while j < len(M):\n",
    "                \n",
    "                mult_elements_plus *= M[i if i < len(M) else i - len(M)][j]\n",
    "                mult_elements_minus *= M[i if i < len(M) else i - len(M)][k]\n",
    "                \n",
    "                i += 1\n",
    "                j += 1\n",
    "                k -= 1 \n",
    "\n",
    "            determinant += mult_elements_plus\n",
    "            determinant -= mult_elements_minus\n",
    "                 \n",
    "        return determinant\n",
    "    \n",
    "    else:\n",
    "        \n",
    "        return 'Матрица не квадратная'"
   ]
  },
  {
   "cell_type": "code",
   "execution_count": 6,
   "metadata": {},
   "outputs": [
    {
     "name": "stdout",
     "output_type": "stream",
     "text": [
      "180\n",
      "0\n"
     ]
    }
   ],
   "source": [
    "A = np.array([[4, 2, 3], [0, 5, 1], [0, 0, 9]])\n",
    "B = np.array([[-2, 7, -3], [4, -14, 6], [-3, 7, 13]])\n",
    "\n",
    "print(determinant_matrix(A))\n",
    "print(determinant_matrix(B))"
   ]
  }
 ],
 "metadata": {
  "kernelspec": {
   "display_name": "Python 3",
   "language": "python",
   "name": "python3"
  },
  "language_info": {
   "codemirror_mode": {
    "name": "ipython",
    "version": 3
   },
   "file_extension": ".py",
   "mimetype": "text/x-python",
   "name": "python",
   "nbconvert_exporter": "python",
   "pygments_lexer": "ipython3",
   "version": "3.7.3"
  }
 },
 "nbformat": 4,
 "nbformat_minor": 2
}
